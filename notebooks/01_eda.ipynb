{
 "cells": [
  {
   "cell_type": "code",
   "execution_count": 2,
   "id": "4e166d8e",
   "metadata": {},
   "outputs": [
    {
     "data": {
      "text/html": [
       "<div>\n",
       "<style scoped>\n",
       "    .dataframe tbody tr th:only-of-type {\n",
       "        vertical-align: middle;\n",
       "    }\n",
       "\n",
       "    .dataframe tbody tr th {\n",
       "        vertical-align: top;\n",
       "    }\n",
       "\n",
       "    .dataframe thead th {\n",
       "        text-align: right;\n",
       "    }\n",
       "</style>\n",
       "<table border=\"1\" class=\"dataframe\">\n",
       "  <thead>\n",
       "    <tr style=\"text-align: right;\">\n",
       "      <th></th>\n",
       "      <th>city</th>\n",
       "      <th>price</th>\n",
       "      <th>rent</th>\n",
       "      <th>gross_yield</th>\n",
       "    </tr>\n",
       "  </thead>\n",
       "  <tbody>\n",
       "    <tr>\n",
       "      <th>0</th>\n",
       "      <td>Columbus</td>\n",
       "      <td>180000</td>\n",
       "      <td>1500</td>\n",
       "      <td>0.100000</td>\n",
       "    </tr>\n",
       "    <tr>\n",
       "      <th>1</th>\n",
       "      <td>Phoenix</td>\n",
       "      <td>320000</td>\n",
       "      <td>2200</td>\n",
       "      <td>0.082500</td>\n",
       "    </tr>\n",
       "    <tr>\n",
       "      <th>2</th>\n",
       "      <td>Atlanta</td>\n",
       "      <td>250000</td>\n",
       "      <td>1800</td>\n",
       "      <td>0.086400</td>\n",
       "    </tr>\n",
       "    <tr>\n",
       "      <th>3</th>\n",
       "      <td>Tampa</td>\n",
       "      <td>290000</td>\n",
       "      <td>2100</td>\n",
       "      <td>0.086897</td>\n",
       "    </tr>\n",
       "    <tr>\n",
       "      <th>4</th>\n",
       "      <td>Indianapolis</td>\n",
       "      <td>200000</td>\n",
       "      <td>1550</td>\n",
       "      <td>0.093000</td>\n",
       "    </tr>\n",
       "  </tbody>\n",
       "</table>\n",
       "</div>"
      ],
      "text/plain": [
       "           city   price  rent  gross_yield\n",
       "0      Columbus  180000  1500     0.100000\n",
       "1       Phoenix  320000  2200     0.082500\n",
       "2       Atlanta  250000  1800     0.086400\n",
       "3         Tampa  290000  2100     0.086897\n",
       "4  Indianapolis  200000  1550     0.093000"
      ]
     },
     "metadata": {},
     "output_type": "display_data"
    },
    {
     "name": "stdout",
     "output_type": "stream",
     "text": [
      "Avg gross yield: 8.98%\n"
     ]
    }
   ],
   "source": [
    "import pandas as pd\n",
    "df = pd.read_csv('../data/raw/sample_listings.csv')\n",
    "df['gross_yield'] = (df['rent']*12) / df['price']\n",
    "display(df[['city','price','rent','gross_yield']])\n",
    "print('Avg gross yield:', f\"{df['gross_yield'].mean():.2%}\")"
   ]
  },
  {
   "cell_type": "code",
   "execution_count": null,
   "id": "63e87d44",
   "metadata": {},
   "outputs": [],
   "source": [
    "df.shape, df.dtypes\n",
    "df.head(3); df.tail(3)"
   ]
  },
  {
   "cell_type": "code",
   "execution_count": null,
   "id": "127f3576",
   "metadata": {},
   "outputs": [],
   "source": [
    "df.isna().sum()"
   ]
  },
  {
   "cell_type": "code",
   "execution_count": null,
   "id": "16b08bea",
   "metadata": {},
   "outputs": [],
   "source": [
    "df.describe(numeric_only=True)"
   ]
  },
  {
   "cell_type": "code",
   "execution_count": null,
   "id": "3a8bf124",
   "metadata": {},
   "outputs": [],
   "source": [
    "import matplotlib.pyplot as plt\n",
    "df['price'].plot(kind='hist', bins=10, title='Price'); plt.show()\n",
    "df['rent'].plot(kind='hist', bins=10, title='Rent'); plt.show()\n",
    "df['gross_yield'].plot(kind='hist', bins=10, title='Gross Yield'); plt.show()\n",
    "df.plot(kind='scatter', x='price', y='rent', title='Price vs Rent'); plt.show()"
   ]
  },
  {
   "cell_type": "code",
   "execution_count": null,
   "id": "7f78620c",
   "metadata": {},
   "outputs": [],
   "source": [
    "print(\"Top 3 by gross_yield\")\n",
    "display(df.sort_values('gross_yield', ascending=False).head(3)[['city','price','rent','gross_yield']])\n",
    "\n",
    "print(\"Bottom 3 by gross_yield\")\n",
    "display(df.sort_values('gross_yield', ascending=True).head(3)[['city','price','rent','gross_yield']])"
   ]
  },
  {
   "cell_type": "code",
   "execution_count": 3,
   "id": "214ea505",
   "metadata": {},
   "outputs": [
    {
     "name": "stdout",
     "output_type": "stream",
     "text": [
      "Saved to ../data/processed/sample_listings_proc.csv\n"
     ]
    }
   ],
   "source": [
    "from pathlib import Path\n",
    "Path('../data/processed').mkdir(parents=True, exist_ok=True)\n",
    "df.to_csv('../data/processed/sample_listings_proc.csv', index=False)\n",
    "print(\"Saved to ../data/processed/sample_listings_proc.csv\")"
   ]
  }
 ],
 "metadata": {
  "kernelspec": {
   "display_name": "real-estate-analyzer",
   "language": "python",
   "name": "real-estate-analyzer"
  },
  "language_info": {
   "codemirror_mode": {
    "name": "ipython",
    "version": 3
   },
   "file_extension": ".py",
   "mimetype": "text/x-python",
   "name": "python",
   "nbconvert_exporter": "python",
   "pygments_lexer": "ipython3",
   "version": "3.11.5"
  }
 },
 "nbformat": 4,
 "nbformat_minor": 5
}
